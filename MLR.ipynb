{
 "cells": [
  {
   "cell_type": "code",
   "execution_count": 2,
   "metadata": {},
   "outputs": [],
   "source": [
    "import pandas as pd\n",
    "import numpy as np\n",
    "import matplotlib.pyplot as plt\n",
    "import seaborn as sns"
   ]
  },
  {
   "cell_type": "code",
   "execution_count": 18,
   "metadata": {},
   "outputs": [],
   "source": [
    "#Reading the dataset\n",
    "dataset = pd.read_csv(\"training_data.csv\")"
   ]
  },
  {
   "cell_type": "code",
   "execution_count": 27,
   "metadata": {},
   "outputs": [
    {
     "data": {
      "text/html": [
       "<div>\n",
       "<style scoped>\n",
       "    .dataframe tbody tr th:only-of-type {\n",
       "        vertical-align: middle;\n",
       "    }\n",
       "\n",
       "    .dataframe tbody tr th {\n",
       "        vertical-align: top;\n",
       "    }\n",
       "\n",
       "    .dataframe thead th {\n",
       "        text-align: right;\n",
       "    }\n",
       "</style>\n",
       "<table border=\"1\" class=\"dataframe\">\n",
       "  <thead>\n",
       "    <tr style=\"text-align: right;\">\n",
       "      <th></th>\n",
       "      <th>CHELSA_bio10_01_b1</th>\n",
       "      <th>FAPAR_mean_January</th>\n",
       "      <th>FAPAR_mean_June</th>\n",
       "      <th>precipitation</th>\n",
       "      <th>elevation</th>\n",
       "      <th>landcover_cropland_precentage</th>\n",
       "      <th>landcover_class</th>\n",
       "      <th>landsat8_nir</th>\n",
       "      <th>landsat8_red</th>\n",
       "      <th>landsat8_swir1</th>\n",
       "      <th>landsat8_swir2</th>\n",
       "      <th>pH</th>\n",
       "      <th>sentinel2_band_2</th>\n",
       "      <th>sentinel2_band_4</th>\n",
       "      <th>sentinel2_band_9</th>\n",
       "    </tr>\n",
       "  </thead>\n",
       "  <tbody>\n",
       "    <tr>\n",
       "      <th>0</th>\n",
       "      <td>193</td>\n",
       "      <td>621.600000</td>\n",
       "      <td>628.000000</td>\n",
       "      <td>15008.91667</td>\n",
       "      <td>1681</td>\n",
       "      <td>11</td>\n",
       "      <td>4</td>\n",
       "      <td>65</td>\n",
       "      <td>20</td>\n",
       "      <td>62</td>\n",
       "      <td>39</td>\n",
       "      <td>6.4</td>\n",
       "      <td>28</td>\n",
       "      <td>37</td>\n",
       "      <td>123</td>\n",
       "    </tr>\n",
       "    <tr>\n",
       "      <th>1</th>\n",
       "      <td>173</td>\n",
       "      <td>385.458333</td>\n",
       "      <td>556.000000</td>\n",
       "      <td>15157.66667</td>\n",
       "      <td>2201</td>\n",
       "      <td>52</td>\n",
       "      <td>4</td>\n",
       "      <td>67</td>\n",
       "      <td>45</td>\n",
       "      <td>105</td>\n",
       "      <td>81</td>\n",
       "      <td>6.8</td>\n",
       "      <td>31</td>\n",
       "      <td>45</td>\n",
       "      <td>96</td>\n",
       "    </tr>\n",
       "    <tr>\n",
       "      <th>3</th>\n",
       "      <td>295</td>\n",
       "      <td>168.326531</td>\n",
       "      <td>212.294118</td>\n",
       "      <td>15771.58333</td>\n",
       "      <td>387</td>\n",
       "      <td>0</td>\n",
       "      <td>3</td>\n",
       "      <td>49</td>\n",
       "      <td>59</td>\n",
       "      <td>72</td>\n",
       "      <td>68</td>\n",
       "      <td>8.1</td>\n",
       "      <td>23</td>\n",
       "      <td>41</td>\n",
       "      <td>10000000000</td>\n",
       "    </tr>\n",
       "    <tr>\n",
       "      <th>4</th>\n",
       "      <td>220</td>\n",
       "      <td>438.111111</td>\n",
       "      <td>587.333333</td>\n",
       "      <td>15225.25000</td>\n",
       "      <td>1114</td>\n",
       "      <td>27</td>\n",
       "      <td>4</td>\n",
       "      <td>66</td>\n",
       "      <td>29</td>\n",
       "      <td>67</td>\n",
       "      <td>38</td>\n",
       "      <td>7.5</td>\n",
       "      <td>15</td>\n",
       "      <td>18</td>\n",
       "      <td>130</td>\n",
       "    </tr>\n",
       "    <tr>\n",
       "      <th>5</th>\n",
       "      <td>277</td>\n",
       "      <td>113.838710</td>\n",
       "      <td>119.661017</td>\n",
       "      <td>15677.08333</td>\n",
       "      <td>749</td>\n",
       "      <td>0</td>\n",
       "      <td>7</td>\n",
       "      <td>61</td>\n",
       "      <td>94</td>\n",
       "      <td>105</td>\n",
       "      <td>108</td>\n",
       "      <td>7.7</td>\n",
       "      <td>57</td>\n",
       "      <td>95</td>\n",
       "      <td>121</td>\n",
       "    </tr>\n",
       "  </tbody>\n",
       "</table>\n",
       "</div>"
      ],
      "text/plain": [
       "   CHELSA_bio10_01_b1  FAPAR_mean_January  FAPAR_mean_June  precipitation  \\\n",
       "0                 193          621.600000       628.000000    15008.91667   \n",
       "1                 173          385.458333       556.000000    15157.66667   \n",
       "3                 295          168.326531       212.294118    15771.58333   \n",
       "4                 220          438.111111       587.333333    15225.25000   \n",
       "5                 277          113.838710       119.661017    15677.08333   \n",
       "\n",
       "   elevation  landcover_cropland_precentage  landcover_class  landsat8_nir  \\\n",
       "0       1681                             11                4            65   \n",
       "1       2201                             52                4            67   \n",
       "3        387                              0                3            49   \n",
       "4       1114                             27                4            66   \n",
       "5        749                              0                7            61   \n",
       "\n",
       "   landsat8_red  landsat8_swir1  landsat8_swir2   pH  sentinel2_band_2  \\\n",
       "0            20              62              39  6.4                28   \n",
       "1            45             105              81  6.8                31   \n",
       "3            59              72              68  8.1                23   \n",
       "4            29              67              38  7.5                15   \n",
       "5            94             105             108  7.7                57   \n",
       "\n",
       "   sentinel2_band_4  sentinel2_band_9  \n",
       "0                37               123  \n",
       "1                45                96  \n",
       "3                41       10000000000  \n",
       "4                18               130  \n",
       "5                95               121  "
      ]
     },
     "execution_count": 27,
     "metadata": {},
     "output_type": "execute_result"
    }
   ],
   "source": [
    "dataset.head()"
   ]
  },
  {
   "cell_type": "code",
   "execution_count": 21,
   "metadata": {},
   "outputs": [
    {
     "data": {
      "text/plain": [
       "8932"
      ]
     },
     "execution_count": 21,
     "metadata": {},
     "output_type": "execute_result"
    }
   ],
   "source": [
    "len(dataset)"
   ]
  },
  {
   "cell_type": "markdown",
   "metadata": {},
   "source": [
    "Dropping NaN values"
   ]
  },
  {
   "cell_type": "code",
   "execution_count": 22,
   "metadata": {},
   "outputs": [],
   "source": [
    "dataset = dataset.dropna()"
   ]
  },
  {
   "cell_type": "code",
   "execution_count": 23,
   "metadata": {},
   "outputs": [
    {
     "data": {
      "text/plain": [
       "8932"
      ]
     },
     "execution_count": 23,
     "metadata": {},
     "output_type": "execute_result"
    }
   ],
   "source": [
    "len(dataset)"
   ]
  },
  {
   "cell_type": "code",
   "execution_count": 24,
   "metadata": {},
   "outputs": [
    {
     "data": {
      "text/html": [
       "<div>\n",
       "<style scoped>\n",
       "    .dataframe tbody tr th:only-of-type {\n",
       "        vertical-align: middle;\n",
       "    }\n",
       "\n",
       "    .dataframe tbody tr th {\n",
       "        vertical-align: top;\n",
       "    }\n",
       "\n",
       "    .dataframe thead th {\n",
       "        text-align: right;\n",
       "    }\n",
       "</style>\n",
       "<table border=\"1\" class=\"dataframe\">\n",
       "  <thead>\n",
       "    <tr style=\"text-align: right;\">\n",
       "      <th></th>\n",
       "      <th>CHELSA_bio10_01_b1</th>\n",
       "      <th>FAPAR_mean_January</th>\n",
       "      <th>FAPAR_mean_June</th>\n",
       "      <th>precipitation</th>\n",
       "      <th>elevation</th>\n",
       "      <th>landcover_cropland_precentage</th>\n",
       "      <th>landcover_class</th>\n",
       "      <th>landsat8_nir</th>\n",
       "      <th>landsat8_red</th>\n",
       "      <th>landsat8_swir1</th>\n",
       "      <th>landsat8_swir2</th>\n",
       "      <th>pH</th>\n",
       "      <th>sentinel2_band_2</th>\n",
       "      <th>sentinel2_band_4</th>\n",
       "      <th>sentinel2_band_9</th>\n",
       "    </tr>\n",
       "  </thead>\n",
       "  <tbody>\n",
       "    <tr>\n",
       "      <th>0</th>\n",
       "      <td>193</td>\n",
       "      <td>621.600000</td>\n",
       "      <td>628.000000</td>\n",
       "      <td>15008.91667</td>\n",
       "      <td>1681</td>\n",
       "      <td>11</td>\n",
       "      <td>4</td>\n",
       "      <td>65</td>\n",
       "      <td>20</td>\n",
       "      <td>62</td>\n",
       "      <td>39</td>\n",
       "      <td>6.4</td>\n",
       "      <td>28</td>\n",
       "      <td>37</td>\n",
       "      <td>123</td>\n",
       "    </tr>\n",
       "    <tr>\n",
       "      <th>1</th>\n",
       "      <td>173</td>\n",
       "      <td>385.458333</td>\n",
       "      <td>556.000000</td>\n",
       "      <td>15157.66667</td>\n",
       "      <td>2201</td>\n",
       "      <td>52</td>\n",
       "      <td>4</td>\n",
       "      <td>67</td>\n",
       "      <td>45</td>\n",
       "      <td>105</td>\n",
       "      <td>81</td>\n",
       "      <td>6.8</td>\n",
       "      <td>31</td>\n",
       "      <td>45</td>\n",
       "      <td>96</td>\n",
       "    </tr>\n",
       "    <tr>\n",
       "      <th>3</th>\n",
       "      <td>295</td>\n",
       "      <td>168.326531</td>\n",
       "      <td>212.294118</td>\n",
       "      <td>15771.58333</td>\n",
       "      <td>387</td>\n",
       "      <td>0</td>\n",
       "      <td>3</td>\n",
       "      <td>49</td>\n",
       "      <td>59</td>\n",
       "      <td>72</td>\n",
       "      <td>68</td>\n",
       "      <td>8.1</td>\n",
       "      <td>23</td>\n",
       "      <td>41</td>\n",
       "      <td>10000000000</td>\n",
       "    </tr>\n",
       "    <tr>\n",
       "      <th>4</th>\n",
       "      <td>220</td>\n",
       "      <td>438.111111</td>\n",
       "      <td>587.333333</td>\n",
       "      <td>15225.25000</td>\n",
       "      <td>1114</td>\n",
       "      <td>27</td>\n",
       "      <td>4</td>\n",
       "      <td>66</td>\n",
       "      <td>29</td>\n",
       "      <td>67</td>\n",
       "      <td>38</td>\n",
       "      <td>7.5</td>\n",
       "      <td>15</td>\n",
       "      <td>18</td>\n",
       "      <td>130</td>\n",
       "    </tr>\n",
       "    <tr>\n",
       "      <th>5</th>\n",
       "      <td>277</td>\n",
       "      <td>113.838710</td>\n",
       "      <td>119.661017</td>\n",
       "      <td>15677.08333</td>\n",
       "      <td>749</td>\n",
       "      <td>0</td>\n",
       "      <td>7</td>\n",
       "      <td>61</td>\n",
       "      <td>94</td>\n",
       "      <td>105</td>\n",
       "      <td>108</td>\n",
       "      <td>7.7</td>\n",
       "      <td>57</td>\n",
       "      <td>95</td>\n",
       "      <td>121</td>\n",
       "    </tr>\n",
       "  </tbody>\n",
       "</table>\n",
       "</div>"
      ],
      "text/plain": [
       "   CHELSA_bio10_01_b1  FAPAR_mean_January  FAPAR_mean_June  precipitation  \\\n",
       "0                 193          621.600000       628.000000    15008.91667   \n",
       "1                 173          385.458333       556.000000    15157.66667   \n",
       "3                 295          168.326531       212.294118    15771.58333   \n",
       "4                 220          438.111111       587.333333    15225.25000   \n",
       "5                 277          113.838710       119.661017    15677.08333   \n",
       "\n",
       "   elevation  landcover_cropland_precentage  landcover_class  landsat8_nir  \\\n",
       "0       1681                             11                4            65   \n",
       "1       2201                             52                4            67   \n",
       "3        387                              0                3            49   \n",
       "4       1114                             27                4            66   \n",
       "5        749                              0                7            61   \n",
       "\n",
       "   landsat8_red  landsat8_swir1  landsat8_swir2   pH  sentinel2_band_2  \\\n",
       "0            20              62              39  6.4                28   \n",
       "1            45             105              81  6.8                31   \n",
       "3            59              72              68  8.1                23   \n",
       "4            29              67              38  7.5                15   \n",
       "5            94             105             108  7.7                57   \n",
       "\n",
       "   sentinel2_band_4  sentinel2_band_9  \n",
       "0                37               123  \n",
       "1                45                96  \n",
       "3                41       10000000000  \n",
       "4                18               130  \n",
       "5                95               121  "
      ]
     },
     "execution_count": 24,
     "metadata": {},
     "output_type": "execute_result"
    }
   ],
   "source": [
    "dataset.head()"
   ]
  },
  {
   "cell_type": "code",
   "execution_count": 25,
   "metadata": {},
   "outputs": [
    {
     "data": {
      "text/plain": [
       "Index(['CHELSA_bio10_01_b1', 'FAPAR_mean_January', 'FAPAR_mean_June',\n",
       "       'precipitation', 'elevation', 'landcover_cropland_precentage',\n",
       "       'landcover_class', 'landsat8_nir', 'landsat8_red', 'landsat8_swir1',\n",
       "       'landsat8_swir2', 'pH', 'sentinel2_band_2', 'sentinel2_band_4',\n",
       "       'sentinel2_band_9'],\n",
       "      dtype='object')"
      ]
     },
     "execution_count": 25,
     "metadata": {},
     "output_type": "execute_result"
    }
   ],
   "source": [
    "dataset.columns"
   ]
  },
  {
   "cell_type": "code",
   "execution_count": 28,
   "metadata": {},
   "outputs": [],
   "source": [
    "#Setting the value for X and Y\n",
    "\n",
    "x = dataset[['landsat8_nir', 'landsat8_red', 'landsat8_swir1',\n",
    "       'landsat8_swir2', 'sentinel2_band_2', 'sentinel2_band_4',\n",
    "       'sentinel2_band_9']]\n",
    "y = dataset['pH']"
   ]
  },
  {
   "cell_type": "markdown",
   "metadata": {},
   "source": [
    "Splitting the dataset into train and test set"
   ]
  },
  {
   "cell_type": "code",
   "execution_count": 29,
   "metadata": {},
   "outputs": [],
   "source": [
    "from sklearn.model_selection import train_test_split\n",
    "\n",
    "x_train, x_test, y_train, y_test = train_test_split(x, y, test_size = 0.3, random_state = 100)"
   ]
  },
  {
   "cell_type": "markdown",
   "metadata": {},
   "source": [
    "Implementing the linear model"
   ]
  },
  {
   "cell_type": "code",
   "execution_count": 30,
   "metadata": {},
   "outputs": [],
   "source": [
    "from sklearn.linear_model import LinearRegression"
   ]
  },
  {
   "cell_type": "code",
   "execution_count": 31,
   "metadata": {},
   "outputs": [
    {
     "data": {
      "text/plain": [
       "LinearRegression()"
      ]
     },
     "execution_count": 31,
     "metadata": {},
     "output_type": "execute_result"
    }
   ],
   "source": [
    "#Fitting the Multiple Linear Regression model\n",
    "\n",
    "LR = LinearRegression()\n",
    "\n",
    "# fitting the training data\n",
    "\n",
    "LR.fit(x_train,y_train)"
   ]
  },
  {
   "cell_type": "markdown",
   "metadata": {},
   "source": [
    "Prediction of pH"
   ]
  },
  {
   "cell_type": "code",
   "execution_count": 32,
   "metadata": {},
   "outputs": [
    {
     "data": {
      "text/plain": [
       "array([6.78603394, 6.22394711, 5.92298656, ..., 5.82598075, 6.3888107 ,\n",
       "       6.38251337])"
      ]
     },
     "execution_count": 32,
     "metadata": {},
     "output_type": "execute_result"
    }
   ],
   "source": [
    "y_prediction =  LR.predict(x_test)\n",
    "y_prediction"
   ]
  },
  {
   "cell_type": "markdown",
   "metadata": {},
   "source": [
    "Model Equation"
   ]
  },
  {
   "cell_type": "code",
   "execution_count": 33,
   "metadata": {},
   "outputs": [
    {
     "name": "stdout",
     "output_type": "stream",
     "text": [
      "Intercept:  7.411516807276677\n",
      "Coefficients:\n"
     ]
    },
    {
     "data": {
      "text/plain": [
       "[('landsat8_nir', -0.008226991549768643),\n",
       " ('landsat8_red', -0.0015591382320334667),\n",
       " ('landsat8_swir1', -0.034745386283111045),\n",
       " ('landsat8_swir2', 0.0392591495289327),\n",
       " ('sentinel2_band_2', 0.04517669967014346),\n",
       " ('sentinel2_band_4', -0.021456796845489727),\n",
       " ('sentinel2_band_9', 8.56303803906111e-11)]"
      ]
     },
     "execution_count": 33,
     "metadata": {},
     "output_type": "execute_result"
    }
   ],
   "source": [
    "print(\"Intercept: \", LR.intercept_)\n",
    "print(\"Coefficients:\")\n",
    "list(zip(x, LR.coef_))"
   ]
  },
  {
   "cell_type": "markdown",
   "metadata": {},
   "source": [
    "Regression Equation: pH = 7.4115 + (-0.008227 * landsat8_nir) + (-0.001559 * landsat8_red) + (landsat8_swir1 * -0.03475) + (landsat8_swir2 * 0.03925) + (sentinel2_band_2 * 0.04518) + (sentinel2_band_4 * -0.021456) + (sentinel2_band_9 * 8.5630e-11)"
   ]
  },
  {
   "cell_type": "markdown",
   "metadata": {},
   "source": [
    "Prediction on the test set"
   ]
  },
  {
   "cell_type": "code",
   "execution_count": 34,
   "metadata": {},
   "outputs": [],
   "source": [
    "#Prediction of test set\n",
    "\n",
    "y_pred_mlr= LR.predict(x_test)"
   ]
  },
  {
   "cell_type": "markdown",
   "metadata": {},
   "source": [
    "Predicted values"
   ]
  },
  {
   "cell_type": "code",
   "execution_count": 35,
   "metadata": {},
   "outputs": [
    {
     "name": "stdout",
     "output_type": "stream",
     "text": [
      "Prediction for test set: [6.78603394 6.22394711 5.92298656 ... 5.82598075 6.3888107  6.38251337]\n"
     ]
    }
   ],
   "source": [
    "print(\"Prediction for test set: {}\".format(y_pred_mlr))"
   ]
  },
  {
   "cell_type": "markdown",
   "metadata": {},
   "source": [
    "Actual values and the predicted values"
   ]
  },
  {
   "cell_type": "code",
   "execution_count": 36,
   "metadata": {},
   "outputs": [
    {
     "data": {
      "text/html": [
       "<div>\n",
       "<style scoped>\n",
       "    .dataframe tbody tr th:only-of-type {\n",
       "        vertical-align: middle;\n",
       "    }\n",
       "\n",
       "    .dataframe tbody tr th {\n",
       "        vertical-align: top;\n",
       "    }\n",
       "\n",
       "    .dataframe thead th {\n",
       "        text-align: right;\n",
       "    }\n",
       "</style>\n",
       "<table border=\"1\" class=\"dataframe\">\n",
       "  <thead>\n",
       "    <tr style=\"text-align: right;\">\n",
       "      <th></th>\n",
       "      <th>Actual value</th>\n",
       "      <th>Predicted value</th>\n",
       "    </tr>\n",
       "  </thead>\n",
       "  <tbody>\n",
       "    <tr>\n",
       "      <th>7844</th>\n",
       "      <td>7.2</td>\n",
       "      <td>6.786034</td>\n",
       "    </tr>\n",
       "    <tr>\n",
       "      <th>834</th>\n",
       "      <td>6</td>\n",
       "      <td>6.223947</td>\n",
       "    </tr>\n",
       "    <tr>\n",
       "      <th>2507</th>\n",
       "      <td>4.6</td>\n",
       "      <td>5.922987</td>\n",
       "    </tr>\n",
       "    <tr>\n",
       "      <th>2671</th>\n",
       "      <td>6</td>\n",
       "      <td>6.095407</td>\n",
       "    </tr>\n",
       "    <tr>\n",
       "      <th>7232</th>\n",
       "      <td>5.8</td>\n",
       "      <td>5.960830</td>\n",
       "    </tr>\n",
       "  </tbody>\n",
       "</table>\n",
       "</div>"
      ],
      "text/plain": [
       "     Actual value  Predicted value\n",
       "7844          7.2         6.786034\n",
       "834             6         6.223947\n",
       "2507          4.6         5.922987\n",
       "2671            6         6.095407\n",
       "7232          5.8         5.960830"
      ]
     },
     "execution_count": 36,
     "metadata": {},
     "output_type": "execute_result"
    }
   ],
   "source": [
    "mlr_diff = pd.DataFrame({'Actual value': y_test, 'Predicted value': y_pred_mlr})\n",
    "mlr_diff.head()"
   ]
  }
 ],
 "metadata": {
  "interpreter": {
   "hash": "916dbcbb3f70747c44a77c7bcd40155683ae19c65e1c03b4aa3499c5328201f1"
  },
  "kernelspec": {
   "display_name": "Python 3.8.10 64-bit",
   "language": "python",
   "name": "python3"
  },
  "language_info": {
   "codemirror_mode": {
    "name": "ipython",
    "version": 3
   },
   "file_extension": ".py",
   "mimetype": "text/x-python",
   "name": "python",
   "nbconvert_exporter": "python",
   "pygments_lexer": "ipython3",
   "version": "3.9.7"
  },
  "orig_nbformat": 4
 },
 "nbformat": 4,
 "nbformat_minor": 2
}
